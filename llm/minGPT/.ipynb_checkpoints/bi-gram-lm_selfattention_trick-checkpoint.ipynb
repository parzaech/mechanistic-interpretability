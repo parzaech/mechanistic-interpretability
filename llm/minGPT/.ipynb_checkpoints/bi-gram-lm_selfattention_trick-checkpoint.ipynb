{
 "cells": [
  {
   "cell_type": "code",
   "execution_count": 3,
   "id": "96b07a8b-5703-4161-a815-072e198ad421",
   "metadata": {},
   "outputs": [
    {
     "name": "stdout",
     "output_type": "stream",
     "text": [
      "zsh:1: command not found: wget\r\n"
     ]
    }
   ],
   "source": [
    "!wget https://raw.githubusercontent.com/karpathy/char-rnn/master/data/tinyshakespeare/input.txt"
   ]
  },
  {
   "cell_type": "code",
   "execution_count": 4,
   "id": "fd6f4ccf-7506-4414-8760-7abf9a74b74a",
   "metadata": {},
   "outputs": [],
   "source": [
    "with open('input.txt', 'r', encoding='utf-8') as f:\n",
    "    text = f.read() "
   ]
  },
  {
   "cell_type": "code",
   "execution_count": 5,
   "id": "713cd6c4-1555-4804-bdcb-99605cf8e3e7",
   "metadata": {},
   "outputs": [
    {
     "name": "stdout",
     "output_type": "stream",
     "text": [
      "1115394\n"
     ]
    }
   ],
   "source": [
    "print(len(text))"
   ]
  },
  {
   "cell_type": "code",
   "execution_count": 6,
   "id": "7f659e58-dfee-45fc-8a2c-4280c3540658",
   "metadata": {},
   "outputs": [
    {
     "name": "stdout",
     "output_type": "stream",
     "text": [
      "First Citizen:\n",
      "Before we proceed any further, hear me speak.\n",
      "\n",
      "All:\n",
      "Speak, speak.\n",
      "\n",
      "First Citizen:\n",
      "You are all resolved rather to die than to famish?\n",
      "\n",
      "All:\n",
      "Resolved. resolved.\n",
      "\n",
      "First Citizen:\n",
      "First, you know Caius Marcius is chief enemy to the people.\n",
      "\n",
      "All:\n",
      "We know't, we know't.\n",
      "\n",
      "First Citizen:\n",
      "Let us kill him, and we'll have corn at our own price.\n",
      "Is't a verdict?\n",
      "\n",
      "All:\n",
      "No more talking on't; let it be done: away, away!\n",
      "\n",
      "Second Citizen:\n",
      "One word, good citizens.\n",
      "\n",
      "First Citizen:\n",
      "We are accounted poor citizens, the patricians good.\n",
      "What authority surfeits on would relieve us: if they\n",
      "would yield us but the superfluity, while it were\n",
      "wholesome, we might guess they relieved us humanely;\n",
      "but they think we are too dear: the leanness that\n",
      "afflicts us, the object of our misery, is as an\n",
      "inventory to particularise their abundance; our\n",
      "sufferance is a gain to them Let us revenge this with\n",
      "our pikes, ere we become rakes: for the gods know I\n",
      "speak this in hunger for bread, not in thirst for revenge.\n",
      "\n",
      "\n"
     ]
    }
   ],
   "source": [
    "print(text[:1000])"
   ]
  },
  {
   "cell_type": "code",
   "execution_count": 7,
   "id": "87aef609-3d3c-4b1f-9a95-1217d5e6e274",
   "metadata": {},
   "outputs": [],
   "source": [
    "chars = sorted(list(set(text)))"
   ]
  },
  {
   "cell_type": "code",
   "execution_count": 8,
   "id": "71527452-f13c-4736-9a26-f10466f5c1eb",
   "metadata": {},
   "outputs": [],
   "source": [
    "vocab_size = len(chars)"
   ]
  },
  {
   "cell_type": "code",
   "execution_count": 9,
   "id": "51326234-4da4-4af8-b0cc-6beb9bb5d1d3",
   "metadata": {},
   "outputs": [
    {
     "name": "stdout",
     "output_type": "stream",
     "text": [
      "65\n"
     ]
    }
   ],
   "source": [
    "print(vocab_size)"
   ]
  },
  {
   "cell_type": "code",
   "execution_count": 10,
   "id": "e62184a4-27fc-4f21-91c7-5aa227f8d689",
   "metadata": {},
   "outputs": [
    {
     "name": "stdout",
     "output_type": "stream",
     "text": [
      "\n",
      " !$&',-.3:;?ABCDEFGHIJKLMNOPQRSTUVWXYZabcdefghijklmnopqrstuvwxyz"
     ]
    }
   ],
   "source": [
    "for i in range(65): print(chars[i], end='')"
   ]
  },
  {
   "cell_type": "code",
   "execution_count": 11,
   "id": "e57a4ae0-cbf4-46cc-95a7-a3c3ed8e69d6",
   "metadata": {},
   "outputs": [],
   "source": [
    "str_to_int = { ch:i for i,ch in enumerate(chars) }\n",
    "int_to_str = { i:ch for i,ch in enumerate(chars) }"
   ]
  },
  {
   "cell_type": "code",
   "execution_count": 12,
   "id": "5a84a2e7-4aa6-44cd-a26f-dc9927afb755",
   "metadata": {},
   "outputs": [],
   "source": [
    "encode = lambda s: [str_to_int[c] for c in s]\n",
    "decode = lambda l: ''.join([int_to_str[i] for i in l])"
   ]
  },
  {
   "cell_type": "code",
   "execution_count": 13,
   "id": "7c576eb2-063b-47d3-bb78-527ad432c53a",
   "metadata": {},
   "outputs": [
    {
     "name": "stdout",
     "output_type": "stream",
     "text": [
      "[50, 50, 51, 1, 51, 63, 57, 58, 43, 56, 63, 1, 56, 43, 51, 39, 47, 52, 57]\n"
     ]
    }
   ],
   "source": [
    "print(encode(\"llm mystery remains\"))"
   ]
  },
  {
   "cell_type": "code",
   "execution_count": 14,
   "id": "5750b273-0c86-4796-b517-766ab88948c1",
   "metadata": {},
   "outputs": [
    {
     "name": "stdout",
     "output_type": "stream",
     "text": [
      "llm mystery remains\n"
     ]
    }
   ],
   "source": [
    "print(decode(encode(\"llm mystery remains\")))"
   ]
  },
  {
   "cell_type": "code",
   "execution_count": 25,
   "id": "233c2265",
   "metadata": {},
   "outputs": [
    {
     "name": "stdout",
     "output_type": "stream",
     "text": [
      "torch.Size([1115394]) torch.int64\n",
      "tensor([18, 47, 56, 57, 58,  1, 15, 47, 58, 47, 64, 43, 52, 10,  0, 14, 43, 44,\n",
      "        53, 56, 43,  1, 61, 43,  1, 54, 56, 53, 41, 43, 43, 42,  1, 39, 52, 63,\n",
      "         1, 44, 59, 56, 58, 46, 43, 56,  6,  1, 46, 43, 39, 56,  1, 51, 43,  1,\n",
      "        57, 54, 43, 39, 49,  8,  0,  0, 13, 50, 50, 10,  0, 31, 54, 43, 39, 49,\n",
      "         6,  1, 57, 54, 43, 39, 49,  8,  0,  0, 18, 47, 56, 57, 58,  1, 15, 47,\n",
      "        58, 47, 64, 43, 52, 10,  0, 37, 53, 59])\n"
     ]
    }
   ],
   "source": [
    "import torch\n",
    "data = torch.tensor(encode(text), dtype=torch.long)\n",
    "print(data.shape,data.dtype)\n",
    "print(data[:100])"
   ]
  },
  {
   "cell_type": "code",
   "execution_count": 26,
   "id": "f7268a6f-e9d3-4bc1-bc3f-9619026d5ee9",
   "metadata": {},
   "outputs": [],
   "source": [
    "n = int(0.9*len(data)) \n",
    "train_data = data[:n]\n",
    "val_data = data[n:]"
   ]
  },
  {
   "cell_type": "code",
   "execution_count": 27,
   "id": "7d968f64-e51b-429f-8e88-c3cf1c45e8c1",
   "metadata": {},
   "outputs": [],
   "source": [
    "block_size = 8"
   ]
  },
  {
   "cell_type": "code",
   "execution_count": 28,
   "id": "8ee5f55b-99d7-4ba4-b275-4725669ed40d",
   "metadata": {},
   "outputs": [
    {
     "data": {
      "text/plain": [
       "tensor([18, 47, 56, 57, 58,  1, 15, 47, 58])"
      ]
     },
     "execution_count": 28,
     "metadata": {},
     "output_type": "execute_result"
    }
   ],
   "source": [
    "train_data[:block_size+1]"
   ]
  },
  {
   "cell_type": "code",
   "execution_count": 20,
   "id": "50c70f30-89f6-4642-92f5-7d1b90cb42a4",
   "metadata": {},
   "outputs": [
    {
     "name": "stdout",
     "output_type": "stream",
     "text": [
      "when input is tensor([18]) the target: 47\n",
      "when input is tensor([18, 47]) the target: 56\n",
      "when input is tensor([18, 47, 56]) the target: 57\n",
      "when input is tensor([18, 47, 56, 57]) the target: 58\n",
      "when input is tensor([18, 47, 56, 57, 58]) the target: 1\n",
      "when input is tensor([18, 47, 56, 57, 58,  1]) the target: 15\n",
      "when input is tensor([18, 47, 56, 57, 58,  1, 15]) the target: 47\n",
      "when input is tensor([18, 47, 56, 57, 58,  1, 15, 47]) the target: 58\n"
     ]
    }
   ],
   "source": [
    "x = train_data[:block_size]\n",
    "y = train_data[1:block_size+1]\n",
    "for t in range(block_size):\n",
    "    context = x[:t+1]\n",
    "    target = y[t]\n",
    "    print(f\"when input is {context} the target: {target}\")"
   ]
  },
  {
   "cell_type": "code",
   "execution_count": 21,
   "id": "243ac70f-d153-42a1-9878-868b875c69e9",
   "metadata": {},
   "outputs": [
    {
     "name": "stdout",
     "output_type": "stream",
     "text": [
      "inputs :\n",
      "torch.Size([4, 8])\n",
      "tensor([[24, 43, 58,  5, 57,  1, 46, 43],\n",
      "        [44, 53, 56,  1, 58, 46, 39, 58],\n",
      "        [52, 58,  1, 58, 46, 39, 58,  1],\n",
      "        [25, 17, 27, 10,  0, 21,  1, 54]])\n",
      "targets :\n",
      "torch.Size([4, 8])\n",
      "tensor([[43, 58,  5, 57,  1, 46, 43, 39],\n",
      "        [53, 56,  1, 58, 46, 39, 58,  1],\n",
      "        [58,  1, 58, 46, 39, 58,  1, 46],\n",
      "        [17, 27, 10,  0, 21,  1, 54, 39]])\n",
      "------\n",
      "[24],43\n",
      "[24, 43],58\n",
      "[24, 43, 58],5\n",
      "[24, 43, 58, 5],57\n",
      "[24, 43, 58, 5, 57],1\n",
      "[24, 43, 58, 5, 57, 1],46\n",
      "[24, 43, 58, 5, 57, 1, 46],43\n",
      "[24, 43, 58, 5, 57, 1, 46, 43],39\n",
      "[44],53\n",
      "[44, 53],56\n",
      "[44, 53, 56],1\n",
      "[44, 53, 56, 1],58\n",
      "[44, 53, 56, 1, 58],46\n",
      "[44, 53, 56, 1, 58, 46],39\n",
      "[44, 53, 56, 1, 58, 46, 39],58\n",
      "[44, 53, 56, 1, 58, 46, 39, 58],1\n",
      "[52],58\n",
      "[52, 58],1\n",
      "[52, 58, 1],58\n",
      "[52, 58, 1, 58],46\n",
      "[52, 58, 1, 58, 46],39\n",
      "[52, 58, 1, 58, 46, 39],58\n",
      "[52, 58, 1, 58, 46, 39, 58],1\n",
      "[52, 58, 1, 58, 46, 39, 58, 1],46\n",
      "[25],17\n",
      "[25, 17],27\n",
      "[25, 17, 27],10\n",
      "[25, 17, 27, 10],0\n",
      "[25, 17, 27, 10, 0],21\n",
      "[25, 17, 27, 10, 0, 21],1\n",
      "[25, 17, 27, 10, 0, 21, 1],54\n",
      "[25, 17, 27, 10, 0, 21, 1, 54],39\n"
     ]
    }
   ],
   "source": [
    "torch.manual_seed(1337)\n",
    "batch_size = 4\n",
    "block_size = 8\n",
    "\n",
    "def get_batch(split):\n",
    "    data = train_data if split == \"train\" else val_data\n",
    "    ix = torch.randint(len(data) - block_size, (batch_size,))\n",
    "    x = torch.stack([data[i:i+block_size] for i in ix])\n",
    "    y = torch.stack([data[i+1:i+block_size+1] for i in ix])\n",
    "    return x, y\n",
    "\n",
    "xb, yb = get_batch('train')\n",
    "print(\"inputs :\")\n",
    "print(xb.shape)\n",
    "print(xb)\n",
    "print(\"targets :\")\n",
    "print(yb.shape)\n",
    "print(yb)\n",
    "\n",
    "print(\"------\")\n",
    "\n",
    "for b in range(batch_size):\n",
    "    for t in range(block_size):\n",
    "        context = xb[b, :t+1]\n",
    "        target  = yb[b,t]\n",
    "        print(f\"{context.tolist()},{target}\")"
   ]
  },
  {
   "cell_type": "code",
   "execution_count": 22,
   "id": "074c9b49-6d71-4343-b880-c1d84cdb0f3a",
   "metadata": {},
   "outputs": [
    {
     "name": "stdout",
     "output_type": "stream",
     "text": [
      "tensor([[24, 43, 58,  5, 57,  1, 46, 43],\n",
      "        [44, 53, 56,  1, 58, 46, 39, 58],\n",
      "        [52, 58,  1, 58, 46, 39, 58,  1],\n",
      "        [25, 17, 27, 10,  0, 21,  1, 54]])\n"
     ]
    }
   ],
   "source": [
    "print(xb)"
   ]
  },
  {
   "cell_type": "code",
   "execution_count": null,
   "id": "2c7e7208",
   "metadata": {},
   "outputs": [],
   "source": []
  },
  {
   "cell_type": "code",
   "execution_count": null,
   "id": "4ea7d807",
   "metadata": {},
   "outputs": [],
   "source": []
  },
  {
   "cell_type": "code",
   "execution_count": 29,
   "id": "5781175a",
   "metadata": {},
   "outputs": [],
   "source": [
    "# bi-gram language model"
   ]
  },
  {
   "cell_type": "code",
   "execution_count": null,
   "id": "475e5ba4",
   "metadata": {},
   "outputs": [],
   "source": []
  },
  {
   "cell_type": "code",
   "execution_count": 30,
   "id": "4d1f9741",
   "metadata": {},
   "outputs": [],
   "source": [
    "import torch.nn as nn\n",
    "from torch.nn import functional as F"
   ]
  },
  {
   "cell_type": "code",
   "execution_count": 31,
   "id": "1a14007c",
   "metadata": {},
   "outputs": [
    {
     "data": {
      "text/plain": [
       "<torch._C.Generator at 0x111168810>"
      ]
     },
     "execution_count": 31,
     "metadata": {},
     "output_type": "execute_result"
    }
   ],
   "source": [
    "torch.manual_seed(1337)"
   ]
  },
  {
   "cell_type": "code",
   "execution_count": 45,
   "id": "3ea9277b",
   "metadata": {},
   "outputs": [
    {
     "name": "stdout",
     "output_type": "stream",
     "text": [
      "torch.Size([32, 65])\n",
      "tensor([[ 6.0637e-01, -1.8221e+00, -1.1690e+00,  ..., -1.1942e+00,\n",
      "         -6.2601e-01,  3.1012e-01],\n",
      "        [ 7.1723e-01,  9.7372e-02, -6.3213e-02,  ..., -1.7488e-01,\n",
      "         -8.4489e-01, -1.1427e+00],\n",
      "        [ 3.7405e-01, -5.2491e-01, -9.1027e-01,  ..., -8.6256e-01,\n",
      "         -1.2455e+00,  6.6196e-04],\n",
      "        ...,\n",
      "        [ 3.3056e-01,  7.7441e-01,  2.0565e+00,  ...,  1.3960e+00,\n",
      "          1.5854e+00, -1.0350e+00],\n",
      "        [ 1.0631e-01,  1.7815e-01, -2.5728e-01,  ...,  7.0672e-01,\n",
      "         -3.3647e-01, -4.4001e-01],\n",
      "        [ 1.5161e+00,  1.6629e+00,  1.3459e+00,  ..., -1.2560e+00,\n",
      "         -8.5629e-02,  5.8109e-01]], grad_fn=<ViewBackward0>) tensor(4.7854, grad_fn=<NllLossBackward0>)\n",
      "\n",
      "hml CHZM!X&rrNtT3 M-A'ky$cIMU&ro--A\n",
      "onOW3w-EFVqoEbCBalnof3qqOVCN&QRk:'IYeZAvcsJ.OlXEjUme!ftouvYb&QB;wDY;,nAHEE?UI?CRcD:VMZjC$Uvu.yICRpHP'vJgsvFF??oJ3PHPmEfWH.-Nl O\n",
      "Rn.PDLzXAS3,nZMDlJ:zpG!rHM&FVuG3y---AvIdsqrrbKzOBln\n",
      "MQcgh.MNAaDxMqQ3Ng??qOzB,BHxV-AvYkuuKRc!S,PWLsgaSihr;u.OkyxeOYiausqBG;.3t.&jnD!.ihlhT-EVhsVOqoJlXfaZc-O-cHJ:GMe3;dZyZjWp;CRdzSzDsGVaF,eOIyhqAaDSWpHzbtZBZo$;u\n",
      "i$N?AUIANFIs3qw:tb;yhVUPIkBhjE.LiP,NAeAWLXicDlPgKicIMCBqDPHiiU-efw$TZcfuak:kyLILmIAErwy$$xUYi'zvKe$&Z;T-A.nDf!KyDAJAEH;LIajuEyfFV:bQza ZbQfvsJw;KC,NlaD:$RVieHMCYW;TXTmmCRcbfDeO!:HoKXyQfhmYPdnsqrTWy:xbZjCRu'XVVT-eMJVyvqFVCR?a$sto--\n",
      "M.aSSndieSr3Oz-RcDxFAekRwHoZjvc-bdWvmEcdTJAAhiMNB\n",
      "orNM&CIGMA-e$TXHMuQVKfcqnLiae&\n",
      "PvBtfHlXnM&V;,N&,:eOkWxG\n",
      "MO-!xbKpWIaTc\n",
      "PHopbKVCq;$ou3y'wGNAgo&GB-AA\n",
      "MXcDUpKLi$qy:M&WvvBaooIcI'oJSOrtKRIOBGMOA,xN's,Vs yCYfvwajgBcfPyDlnecaVJw&QsY$xB:bc',u&q;T&RIMwDl;$uON:;ub&QlPfWrrDYfW\n",
      "lclYYnDGeAEFY?gZxaFroWr3wD!!j'b d3dWx mkW3S&FVOBhgox$,:h?-KOVYJUAiFBAYWvouaFKBLKmZMTFITHSftaihwtoudzMUG?bK?hkCRpHp!\n",
      "T:'KsgGTWyx\n"
     ]
    }
   ],
   "source": [
    "class bigramlangmodel(nn.Module):\n",
    "    \n",
    "    def __init__(self, vocab_size):\n",
    "        super().__init__()\n",
    "        #token reads the next token's logit through look up table\n",
    "        self.token_embedding_table = nn.Embedding(vocab_size, vocab_size)\n",
    "    \n",
    "    def forward(self, idx, targets=None):\n",
    "\n",
    "        logits = self.token_embedding_table(idx)\n",
    "        if targets is None:\n",
    "            loss = None\n",
    "        else:\n",
    "            B, T, C = logits.shape\n",
    "            logits = logits.view(B*T, C)\n",
    "            targets = targets.view(B*T)\n",
    "            loss = F.cross_entropy(logits, targets)\n",
    "        return logits, loss\n",
    "    \n",
    "    def generate(self, idx, max_new_tokens): #idx--{B,T} format\n",
    "        for _ in range(max_new_tokens):\n",
    "            logits, loss = self(idx)\n",
    "            logits = logits[:,-1,:] # used to focus on the last step\n",
    "            probs = F.softmax(logits,dim=-1) #softmax for probabs\n",
    "            idx_next = torch.multinomial(probs, num_samples =1)\n",
    "            #now to append the generated sample\n",
    "            idx = torch.cat((idx, idx_next), dim = 1)\n",
    "            \n",
    "        return idx\n",
    "    \n",
    "m = bigramlangmodel(vocab_size)\n",
    "logits, loss = m(xb, yb)\n",
    "print(logits.shape)\n",
    "print(logits, loss)\n",
    "\n",
    "\n",
    "print(decode(m.generate(idx = torch.zeros((1,1), dtype=torch.long), max_new_tokens = 1000)[0].tolist()))"
   ]
  },
  {
   "cell_type": "code",
   "execution_count": null,
   "id": "8af5b35c",
   "metadata": {},
   "outputs": [],
   "source": []
  },
  {
   "cell_type": "code",
   "execution_count": null,
   "id": "600c2217",
   "metadata": {},
   "outputs": [],
   "source": [
    "# training the bigram model"
   ]
  },
  {
   "cell_type": "code",
   "execution_count": 46,
   "id": "234a5836",
   "metadata": {},
   "outputs": [],
   "source": [
    "optimizer = torch.optim.AdamW(m.parameters(), lr=1e-3)"
   ]
  },
  {
   "cell_type": "code",
   "execution_count": 47,
   "id": "a762b50d",
   "metadata": {},
   "outputs": [
    {
     "name": "stdout",
     "output_type": "stream",
     "text": [
      "4.5635175704956055\n",
      "4.607728481292725\n",
      "4.568040370941162\n",
      "4.558488368988037\n",
      "4.523165702819824\n",
      "4.54990816116333\n",
      "4.603701114654541\n",
      "4.608258247375488\n",
      "4.4874114990234375\n",
      "4.600671291351318\n",
      "4.671968936920166\n",
      "4.469656467437744\n",
      "4.541782379150391\n",
      "4.530789375305176\n",
      "4.565713405609131\n",
      "4.489282131195068\n",
      "4.615777015686035\n",
      "4.533841133117676\n",
      "4.549324035644531\n",
      "4.497089385986328\n",
      "4.499934673309326\n",
      "4.548351287841797\n",
      "4.496674060821533\n",
      "4.513086318969727\n",
      "4.441937446594238\n",
      "4.470240116119385\n",
      "4.468621730804443\n",
      "4.540816307067871\n",
      "4.489208221435547\n",
      "4.337831020355225\n",
      "4.577211856842041\n",
      "4.41691780090332\n",
      "4.500166416168213\n",
      "4.557855606079102\n",
      "4.463111877441406\n",
      "4.4933881759643555\n",
      "4.560523986816406\n",
      "4.5298171043396\n",
      "4.463313579559326\n",
      "4.589207172393799\n",
      "4.543258190155029\n",
      "4.503807544708252\n",
      "4.516111850738525\n",
      "4.5566792488098145\n",
      "4.5433478355407715\n",
      "4.560929298400879\n",
      "4.614007949829102\n",
      "4.481178283691406\n",
      "4.488757133483887\n",
      "4.4382195472717285\n",
      "4.5524678230285645\n",
      "4.443222522735596\n",
      "4.538846492767334\n",
      "4.48873233795166\n",
      "4.574199199676514\n",
      "4.622672080993652\n",
      "4.419074535369873\n",
      "4.551440715789795\n",
      "4.5300703048706055\n",
      "4.510645866394043\n",
      "4.381120681762695\n",
      "4.441924571990967\n",
      "4.525725841522217\n",
      "4.477911949157715\n",
      "4.45712423324585\n",
      "4.46755838394165\n",
      "4.4824395179748535\n",
      "4.606756210327148\n",
      "4.415051460266113\n",
      "4.369174957275391\n",
      "4.54728364944458\n",
      "4.569455623626709\n",
      "4.3895697593688965\n",
      "4.525877952575684\n",
      "4.305285453796387\n",
      "4.419333457946777\n",
      "4.537647724151611\n",
      "4.5211968421936035\n",
      "4.4688005447387695\n",
      "4.4210100173950195\n",
      "4.522388458251953\n",
      "4.538066864013672\n",
      "4.410277843475342\n",
      "4.537410259246826\n",
      "4.44025182723999\n",
      "4.47920036315918\n",
      "4.506481647491455\n",
      "4.458846092224121\n",
      "4.461189270019531\n",
      "4.519007682800293\n",
      "4.498637676239014\n",
      "4.355884552001953\n",
      "4.48765230178833\n",
      "4.3856048583984375\n",
      "4.447012424468994\n",
      "4.471303939819336\n",
      "4.499355792999268\n",
      "4.469855785369873\n",
      "4.443002223968506\n",
      "4.40863561630249\n"
     ]
    }
   ],
   "source": [
    "batch_size = 32\n",
    "for steps in range(100):\n",
    "    xb,yb = get_batch(\"train\")\n",
    "    \n",
    "    # loss evaluate\n",
    "    logits, loss = m(xb,yb)\n",
    "    optimizer.zero_grad(set_to_none=True)\n",
    "    loss.backward()\n",
    "    optimizer.step()\n",
    "    \n",
    "    print(loss.item())\n",
    "    "
   ]
  },
  {
   "cell_type": "code",
   "execution_count": 48,
   "id": "26ca1b0f",
   "metadata": {},
   "outputs": [
    {
     "name": "stdout",
     "output_type": "stream",
     "text": [
      "\n",
      "PQi\n",
      "NOLzQBLIyybrUc,INVBhKFvBZ,-U&lng&ma&mJ NYcfFKjFCqa C$To-uO\n",
      "M&gaqdN&NQwYoJO\n",
      "Mm W;CZgH;epcQqkJeBzCU!kcWroZ!xOBqFAkyJSU:pH.'!\n",
      "qAxGBhVaDAWn?: mZxk:;OxT RcqZMqa&Z-EWv!gfNvC--hYxabJBJnY--AorrZxBZ-AWrroxMao-AMz!MaDexkyHnglacIZ:MAH;p-iOIJKMMuYxjLIUHoxB'K W:zq Lrr.Lii$Ixbd$?P-VtoYxb&GTZe$H?IacIxnoS;xaiM!!&QrbKyh&j.CR3&NlXstbQ'OKftUIl&afqFU'X NGMUwIcqihTrIlnkm&CRnRVaYSwIBvLIaer.:zVKXjUneHoJ:twST iMMOSZvQgaWPj-UDGKIHt\n",
      "Dts Pfu.JLIUr.usGvwyKy:!jU\n",
      "jM&aS$UmyNljL?ubVKdiFaO!DenmXI'UItF:B-T-tSS'zIxVKf3xLuamm'\n"
     ]
    }
   ],
   "source": [
    "print(decode(m.generate(idx = torch.zeros((1, 1), dtype=torch.long), max_new_tokens=500)[0].tolist()))"
   ]
  },
  {
   "cell_type": "code",
   "execution_count": 49,
   "id": "cbc6fd5b",
   "metadata": {},
   "outputs": [
    {
     "name": "stdout",
     "output_type": "stream",
     "text": [
      "3.614607810974121\n"
     ]
    }
   ],
   "source": [
    "batch_size = 32\n",
    "for steps in range(1000): \n",
    "    xb,yb = get_batch(\"train\")\n",
    "    \n",
    "    # loss evaluate\n",
    "    logits, loss = m(xb,yb)\n",
    "    optimizer.zero_grad(set_to_none=True)\n",
    "    loss.backward()\n",
    "    optimizer.step()\n",
    "    \n",
    "print(loss.item())\n",
    "\n",
    "\n",
    "#1000"
   ]
  },
  {
   "cell_type": "code",
   "execution_count": 50,
   "id": "39251735",
   "metadata": {},
   "outputs": [
    {
     "name": "stdout",
     "output_type": "stream",
     "text": [
      "3.1206002235412598\n"
     ]
    }
   ],
   "source": [
    "batch_size = 32\n",
    "for steps in range(1000):\n",
    "    xb,yb = get_batch(\"train\")\n",
    "    \n",
    "    # loss evaluate\n",
    "    logits, loss = m(xb,yb)\n",
    "    optimizer.zero_grad(set_to_none=True)\n",
    "    loss.backward()\n",
    "    optimizer.step()\n",
    "    \n",
    "print(loss.item())\n",
    "\n",
    "\n",
    "#1000"
   ]
  },
  {
   "cell_type": "code",
   "execution_count": 52,
   "id": "a57ff0cf",
   "metadata": {},
   "outputs": [
    {
     "name": "stdout",
     "output_type": "stream",
     "text": [
      "loss =  2.479030132293701\n",
      "CPU times: user 10.1 s, sys: 3.92 s, total: 14.1 s\n",
      "Wall time: 10.2 s\n"
     ]
    }
   ],
   "source": [
    "%%time\n",
    "batch_size = 32\n",
    "for steps in range(10000):\n",
    "    xb,yb = get_batch(\"train\")\n",
    "    \n",
    "    # loss evaluate\n",
    "    logits, loss = m(xb,yb)\n",
    "    optimizer.zero_grad(set_to_none=True)\n",
    "    loss.backward()\n",
    "    optimizer.step()\n",
    "    \n",
    "print(\"loss = \",loss.item())\n",
    "\n",
    "\n",
    "#10,000"
   ]
  },
  {
   "cell_type": "code",
   "execution_count": 53,
   "id": "7a1c14ab",
   "metadata": {},
   "outputs": [],
   "source": [
    "# now testing the model "
   ]
  },
  {
   "cell_type": "code",
   "execution_count": null,
   "id": "bea11423",
   "metadata": {},
   "outputs": [],
   "source": []
  },
  {
   "cell_type": "code",
   "execution_count": 54,
   "id": "1094f411",
   "metadata": {},
   "outputs": [
    {
     "name": "stdout",
     "output_type": "stream",
     "text": [
      "\n",
      "\n",
      "Ande,\n",
      "Therak's y, f be t se siakikice ay e pu y omufid vesll ampr;\n",
      "MONomy\n",
      "Gutin, ingt besind co,\n",
      "H: fiovers urataveridor, w, Le\n",
      "Prsethat qurcoutheat, f at mid?\n",
      "RD wan'sthanthid had:\n",
      "ve u?\n",
      "\n",
      "\n",
      "hobeesthifo,\n",
      "\n",
      "TENI wie ou mesis, h, wng ss g, uiverr h be, lourt\n",
      "O:\n",
      "I t ine, t h?\n",
      "Thyond w be,\n",
      "Toullexa hano sbeiggure, maitoto?\n",
      "\n",
      "An t con:\n",
      "\n",
      "Totint owivear, res, wadinkimove PENatik Samaketh CETICa'sl wiothe ll ove pre dsik tth:\n",
      "TI m,\n",
      "PR:\n",
      "Fand oololote thit w bede, mathe pus laimse g, ind fase r chitoris P:\n",
      "\n"
     ]
    }
   ],
   "source": [
    "print(decode(m.generate(idx = torch.zeros((1, 1), dtype=torch.long), max_new_tokens=500)[0].tolist()))"
   ]
  },
  {
   "cell_type": "code",
   "execution_count": 56,
   "id": "38fff9c1",
   "metadata": {},
   "outputs": [],
   "source": [
    "#it shows less gibberrish now xd"
   ]
  },
  {
   "cell_type": "code",
   "execution_count": null,
   "id": "5869ce46",
   "metadata": {},
   "outputs": [],
   "source": []
  },
  {
   "cell_type": "code",
   "execution_count": 57,
   "id": "5b25408c",
   "metadata": {},
   "outputs": [],
   "source": [
    "# SELF ATTENTION HEAD"
   ]
  },
  {
   "cell_type": "code",
   "execution_count": null,
   "id": "9b07412b",
   "metadata": {},
   "outputs": [],
   "source": []
  },
  {
   "cell_type": "code",
   "execution_count": 58,
   "id": "177c248b",
   "metadata": {},
   "outputs": [],
   "source": [
    "#1 Averaging past context -- very unefficient"
   ]
  },
  {
   "cell_type": "code",
   "execution_count": null,
   "id": "90881251",
   "metadata": {},
   "outputs": [],
   "source": []
  },
  {
   "cell_type": "code",
   "execution_count": 60,
   "id": "021406b5",
   "metadata": {},
   "outputs": [
    {
     "data": {
      "text/plain": [
       "torch.Size([4, 8, 2])"
      ]
     },
     "execution_count": 60,
     "metadata": {},
     "output_type": "execute_result"
    }
   ],
   "source": [
    "torch.manual_seed(1337)\n",
    "B, T, C = 4,8,2\n",
    "x = torch.randn(B,T,C)\n",
    "x.shape"
   ]
  },
  {
   "cell_type": "code",
   "execution_count": 61,
   "id": "d28d85a3",
   "metadata": {},
   "outputs": [],
   "source": [
    "#for loop\n",
    "xbow = torch.zeros((B,T,C))\n",
    "for b in range(B):\n",
    "    for t in range(T):\n",
    "        xprev = x[b,:t+1] # till the t its taking means including that position also\n",
    "        xbow[b,t] = torch.mean(xprev, 0)"
   ]
  },
  {
   "cell_type": "code",
   "execution_count": 62,
   "id": "7622618c",
   "metadata": {},
   "outputs": [
    {
     "data": {
      "text/plain": [
       "tensor([[ 0.1808, -0.0700],\n",
       "        [-0.3596, -0.9152],\n",
       "        [ 0.6258,  0.0255],\n",
       "        [ 0.9545,  0.0643],\n",
       "        [ 0.3612,  1.1679],\n",
       "        [-1.3499, -0.5102],\n",
       "        [ 0.2360, -0.2398],\n",
       "        [-0.9211,  1.5433]])"
      ]
     },
     "execution_count": 62,
     "metadata": {},
     "output_type": "execute_result"
    }
   ],
   "source": [
    "x[0]"
   ]
  },
  {
   "cell_type": "code",
   "execution_count": 63,
   "id": "72782dfc",
   "metadata": {},
   "outputs": [
    {
     "data": {
      "text/plain": [
       "tensor([[ 0.1808, -0.0700],\n",
       "        [-0.0894, -0.4926],\n",
       "        [ 0.1490, -0.3199],\n",
       "        [ 0.3504, -0.2238],\n",
       "        [ 0.3525,  0.0545],\n",
       "        [ 0.0688, -0.0396],\n",
       "        [ 0.0927, -0.0682],\n",
       "        [-0.0341,  0.1332]])"
      ]
     },
     "execution_count": 63,
     "metadata": {},
     "output_type": "execute_result"
    }
   ],
   "source": [
    "xbow[0]"
   ]
  },
  {
   "cell_type": "code",
   "execution_count": 64,
   "id": "680c6bdb",
   "metadata": {},
   "outputs": [],
   "source": [
    "# can see that every location is averaged in xbow[] of the prev position and the position itself included"
   ]
  },
  {
   "cell_type": "code",
   "execution_count": null,
   "id": "3d7ea965",
   "metadata": {},
   "outputs": [],
   "source": []
  },
  {
   "cell_type": "code",
   "execution_count": 65,
   "id": "8ff0a0c4",
   "metadata": {},
   "outputs": [],
   "source": [
    "# version 2 using matrix multiply "
   ]
  },
  {
   "cell_type": "code",
   "execution_count": 67,
   "id": "6ec4c620",
   "metadata": {},
   "outputs": [
    {
     "name": "stdout",
     "output_type": "stream",
     "text": [
      "tensor([[1.0000, 0.0000, 0.0000],\n",
      "        [0.5000, 0.5000, 0.0000],\n",
      "        [0.3333, 0.3333, 0.3333]])\n",
      "---\n",
      "tensor([[2., 7.],\n",
      "        [6., 4.],\n",
      "        [6., 5.]])\n",
      "---\n",
      "tensor([[2.0000, 7.0000],\n",
      "        [4.0000, 5.5000],\n",
      "        [4.6667, 5.3333]])\n",
      "---\n"
     ]
    }
   ],
   "source": [
    "torch.manual_seed(42)\n",
    "a = torch.tril(torch.ones(3,3))\n",
    "a = a / torch.sum(a,1, keepdim=True)\n",
    "b = torch.randint(0,10,(3,2)).float()\n",
    "c = a@b\n",
    "print(a)\n",
    "print(\"---\")\n",
    "print(b)\n",
    "print(\"---\")\n",
    "print(c)\n",
    "print(\"---\")"
   ]
  },
  {
   "cell_type": "code",
   "execution_count": null,
   "id": "c1fce2cb",
   "metadata": {},
   "outputs": [],
   "source": []
  },
  {
   "cell_type": "code",
   "execution_count": 68,
   "id": "eab21753",
   "metadata": {},
   "outputs": [
    {
     "data": {
      "text/plain": [
       "tensor([[1.0000, 0.0000, 0.0000, 0.0000, 0.0000, 0.0000, 0.0000, 0.0000],\n",
       "        [0.5000, 0.5000, 0.0000, 0.0000, 0.0000, 0.0000, 0.0000, 0.0000],\n",
       "        [0.3333, 0.3333, 0.3333, 0.0000, 0.0000, 0.0000, 0.0000, 0.0000],\n",
       "        [0.2500, 0.2500, 0.2500, 0.2500, 0.0000, 0.0000, 0.0000, 0.0000],\n",
       "        [0.2000, 0.2000, 0.2000, 0.2000, 0.2000, 0.0000, 0.0000, 0.0000],\n",
       "        [0.1667, 0.1667, 0.1667, 0.1667, 0.1667, 0.1667, 0.0000, 0.0000],\n",
       "        [0.1429, 0.1429, 0.1429, 0.1429, 0.1429, 0.1429, 0.1429, 0.0000],\n",
       "        [0.1250, 0.1250, 0.1250, 0.1250, 0.1250, 0.1250, 0.1250, 0.1250]])"
      ]
     },
     "execution_count": 68,
     "metadata": {},
     "output_type": "execute_result"
    }
   ],
   "source": [
    "wei = torch.tril(torch.ones(T,T))\n",
    "wei = wei/torch.sum(wei,1,keepdim=True)\n",
    "wei\n"
   ]
  },
  {
   "cell_type": "code",
   "execution_count": 69,
   "id": "2409518b",
   "metadata": {},
   "outputs": [],
   "source": [
    "xbow2 = wei @ x\n",
    "#(T,T)matmul(B,T,C) where (T,T) will be changed into(torch will change it to) (B,T,T)@(B,T,C)--->((B,T,C))"
   ]
  },
  {
   "cell_type": "code",
   "execution_count": 70,
   "id": "c72ed4a0",
   "metadata": {},
   "outputs": [
    {
     "data": {
      "text/plain": [
       "True"
      ]
     },
     "execution_count": 70,
     "metadata": {},
     "output_type": "execute_result"
    }
   ],
   "source": [
    "torch.allclose(xbow,xbow2)"
   ]
  },
  {
   "cell_type": "code",
   "execution_count": 71,
   "id": "03cdb23b",
   "metadata": {},
   "outputs": [
    {
     "data": {
      "text/plain": [
       "tensor([[ 0.1808, -0.0700],\n",
       "        [-0.0894, -0.4926],\n",
       "        [ 0.1490, -0.3199],\n",
       "        [ 0.3504, -0.2238],\n",
       "        [ 0.3525,  0.0545],\n",
       "        [ 0.0688, -0.0396],\n",
       "        [ 0.0927, -0.0682],\n",
       "        [-0.0341,  0.1332]])"
      ]
     },
     "execution_count": 71,
     "metadata": {},
     "output_type": "execute_result"
    }
   ],
   "source": [
    "xbow[0]"
   ]
  },
  {
   "cell_type": "code",
   "execution_count": 73,
   "id": "3ab3db4c",
   "metadata": {},
   "outputs": [
    {
     "data": {
      "text/plain": [
       "tensor([[ 0.1808, -0.0700],\n",
       "        [-0.0894, -0.4926],\n",
       "        [ 0.1490, -0.3199],\n",
       "        [ 0.3504, -0.2238],\n",
       "        [ 0.3525,  0.0545],\n",
       "        [ 0.0688, -0.0396],\n",
       "        [ 0.0927, -0.0682],\n",
       "        [-0.0341,  0.1332]])"
      ]
     },
     "execution_count": 73,
     "metadata": {},
     "output_type": "execute_result"
    }
   ],
   "source": [
    "xbow2[0] #both are same but this efficient"
   ]
  },
  {
   "cell_type": "code",
   "execution_count": null,
   "id": "ef431f64",
   "metadata": {},
   "outputs": [],
   "source": []
  },
  {
   "cell_type": "code",
   "execution_count": 74,
   "id": "290713b8",
   "metadata": {},
   "outputs": [],
   "source": [
    "# version 3 using softmax"
   ]
  },
  {
   "cell_type": "code",
   "execution_count": 78,
   "id": "46e9fc8e",
   "metadata": {},
   "outputs": [
    {
     "data": {
      "text/plain": [
       "tensor([[1., 0., 0., 0., 0., 0., 0., 0.],\n",
       "        [1., 1., 0., 0., 0., 0., 0., 0.],\n",
       "        [1., 1., 1., 0., 0., 0., 0., 0.],\n",
       "        [1., 1., 1., 1., 0., 0., 0., 0.],\n",
       "        [1., 1., 1., 1., 1., 0., 0., 0.],\n",
       "        [1., 1., 1., 1., 1., 1., 0., 0.],\n",
       "        [1., 1., 1., 1., 1., 1., 1., 0.],\n",
       "        [1., 1., 1., 1., 1., 1., 1., 1.]])"
      ]
     },
     "execution_count": 78,
     "metadata": {},
     "output_type": "execute_result"
    }
   ],
   "source": [
    "trill = torch.tril(torch.ones(T,T))\n",
    "trill"
   ]
  },
  {
   "cell_type": "code",
   "execution_count": 80,
   "id": "73f5a3b8",
   "metadata": {},
   "outputs": [
    {
     "data": {
      "text/plain": [
       "tensor([[1.0000, 0.0000, 0.0000, 0.0000, 0.0000, 0.0000, 0.0000, 0.0000],\n",
       "        [0.5000, 0.5000, 0.0000, 0.0000, 0.0000, 0.0000, 0.0000, 0.0000],\n",
       "        [0.3333, 0.3333, 0.3333, 0.0000, 0.0000, 0.0000, 0.0000, 0.0000],\n",
       "        [0.2500, 0.2500, 0.2500, 0.2500, 0.0000, 0.0000, 0.0000, 0.0000],\n",
       "        [0.2000, 0.2000, 0.2000, 0.2000, 0.2000, 0.0000, 0.0000, 0.0000],\n",
       "        [0.1667, 0.1667, 0.1667, 0.1667, 0.1667, 0.1667, 0.0000, 0.0000],\n",
       "        [0.1429, 0.1429, 0.1429, 0.1429, 0.1429, 0.1429, 0.1429, 0.0000],\n",
       "        [0.1250, 0.1250, 0.1250, 0.1250, 0.1250, 0.1250, 0.1250, 0.1250]])"
      ]
     },
     "execution_count": 80,
     "metadata": {},
     "output_type": "execute_result"
    }
   ],
   "source": [
    "wei = torch.zeros((T,T))\n",
    "wei = wei.masked_fill(trill == 0, float('-inf'))\n",
    "wei = F.softmax(wei, dim=-1)\n",
    "wei"
   ]
  },
  {
   "cell_type": "code",
   "execution_count": 81,
   "id": "829f1a53",
   "metadata": {},
   "outputs": [],
   "source": [
    "# exactly the same matrix as ver1 && ver2"
   ]
  },
  {
   "cell_type": "code",
   "execution_count": 83,
   "id": "80e1bdc1",
   "metadata": {},
   "outputs": [
    {
     "data": {
      "text/plain": [
       "True"
      ]
     },
     "execution_count": 83,
     "metadata": {},
     "output_type": "execute_result"
    }
   ],
   "source": [
    "xbow3 = wei @ x\n",
    "torch.allclose(xbow3,xbow2)"
   ]
  },
  {
   "cell_type": "code",
   "execution_count": null,
   "id": "257e8032",
   "metadata": {},
   "outputs": [],
   "source": []
  },
  {
   "cell_type": "code",
   "execution_count": null,
   "id": "d08082d9",
   "metadata": {},
   "outputs": [],
   "source": []
  },
  {
   "cell_type": "code",
   "execution_count": null,
   "id": "9369e613",
   "metadata": {},
   "outputs": [],
   "source": []
  },
  {
   "cell_type": "code",
   "execution_count": null,
   "id": "aecfb4f6",
   "metadata": {},
   "outputs": [],
   "source": []
  }
 ],
 "metadata": {
  "kernelspec": {
   "display_name": "Python 3 (ipykernel)",
   "language": "python",
   "name": "python3"
  },
  "language_info": {
   "codemirror_mode": {
    "name": "ipython",
    "version": 3
   },
   "file_extension": ".py",
   "mimetype": "text/x-python",
   "name": "python",
   "nbconvert_exporter": "python",
   "pygments_lexer": "ipython3",
   "version": "3.9.15"
  }
 },
 "nbformat": 4,
 "nbformat_minor": 5
}
