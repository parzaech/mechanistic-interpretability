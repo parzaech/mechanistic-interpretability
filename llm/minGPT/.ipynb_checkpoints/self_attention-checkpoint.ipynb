{
 "cells": [
  {
   "cell_type": "code",
   "execution_count": 1,
   "id": "41bc0b06",
   "metadata": {},
   "outputs": [],
   "source": [
    "import torch\n",
    "import torch.nn as nn\n",
    "from torch.nn import functional as F"
   ]
  },
  {
   "cell_type": "code",
   "execution_count": 2,
   "id": "e1f96929",
   "metadata": {},
   "outputs": [],
   "source": [
    "with open('input.txt', 'r', encoding='utf-8') as f:\n",
    "    text = f.read()"
   ]
  },
  {
   "cell_type": "code",
   "execution_count": 101,
   "id": "38c4dc02",
   "metadata": {},
   "outputs": [],
   "source": [
    "batch_size = 64\n",
    "block_size = 256 \n",
    "max_iters = 5000\n",
    "eval_interval = 500\n",
    "learning_rate = 3e-4\n",
    "eval_iters = 200\n",
    "n_embed = 384"
   ]
  },
  {
   "cell_type": "code",
   "execution_count": 102,
   "id": "2562db73",
   "metadata": {},
   "outputs": [
    {
     "data": {
      "text/plain": [
       "<torch._C.Generator at 0x113b89e90>"
      ]
     },
     "execution_count": 102,
     "metadata": {},
     "output_type": "execute_result"
    }
   ],
   "source": [
    "torch.manual_seed(1337)"
   ]
  },
  {
   "cell_type": "code",
   "execution_count": 103,
   "id": "da082660",
   "metadata": {},
   "outputs": [],
   "source": [
    "chars = sorted(list(set(text)))"
   ]
  },
  {
   "cell_type": "code",
   "execution_count": 104,
   "id": "9719d3d4",
   "metadata": {},
   "outputs": [],
   "source": [
    "vocab_size = len(chars)"
   ]
  },
  {
   "cell_type": "code",
   "execution_count": 105,
   "id": "59e0460d",
   "metadata": {},
   "outputs": [
    {
     "name": "stdout",
     "output_type": "stream",
     "text": [
      "\n",
      " !$&',-.3:;?ABCDEFGHIJKLMNOPQRSTUVWXYZabcdefghijklmnopqrstuvwxyz"
     ]
    }
   ],
   "source": [
    "for i in range(65): print(chars[i], end='')"
   ]
  },
  {
   "cell_type": "code",
   "execution_count": 106,
   "id": "432d5d28",
   "metadata": {},
   "outputs": [],
   "source": [
    "str_to_int = { ch:i for i,ch in enumerate(chars) }\n",
    "int_to_str = { i:ch for i,ch in enumerate(chars) }"
   ]
  },
  {
   "cell_type": "code",
   "execution_count": 107,
   "id": "d8bf6545",
   "metadata": {},
   "outputs": [],
   "source": [
    "encode = lambda s: [str_to_int[c] for c in s]\n",
    "decode = lambda l: ''.join([int_to_str[i] for i in l])"
   ]
  },
  {
   "cell_type": "code",
   "execution_count": 108,
   "id": "9604a6c0",
   "metadata": {},
   "outputs": [],
   "source": [
    "data = torch.tensor(encode(text), dtype=torch.long)\n",
    "n = int(0.9*len(data))\n",
    "train_data = data[:n]\n",
    "val_data = data[n:]"
   ]
  },
  {
   "cell_type": "code",
   "execution_count": 109,
   "id": "33ae4712",
   "metadata": {},
   "outputs": [],
   "source": [
    "def get_batch(split):\n",
    "    data = train_data if split == \"train\" else val_data\n",
    "    ix = torch.randint(len(data) - block_size, (batch_size,))\n",
    "    x = torch.stack([data[i:i+block_size] for i in ix])\n",
    "    y = torch.stack([data[i+1:i+block_size+1] for i in ix])\n",
    "    return x, y"
   ]
  },
  {
   "cell_type": "code",
   "execution_count": 110,
   "id": "e22a6299",
   "metadata": {},
   "outputs": [],
   "source": [
    "xb, yb = get_batch('train')"
   ]
  },
  {
   "cell_type": "code",
   "execution_count": null,
   "id": "130b498c",
   "metadata": {},
   "outputs": [],
   "source": []
  },
  {
   "cell_type": "code",
   "execution_count": 111,
   "id": "65086f63",
   "metadata": {},
   "outputs": [
    {
     "name": "stdout",
     "output_type": "stream",
     "text": [
      "torch.Size([16384, 65])\n",
      "tensor([[ 0.4790, -0.2589, -1.0855,  ..., -1.9291,  0.6568, -0.3977],\n",
      "        [ 0.3532,  0.6887,  1.5477,  ...,  3.0785,  0.0237,  0.2473],\n",
      "        [ 0.3873,  0.9253, -0.8741,  ...,  0.7062, -0.8130,  1.1971],\n",
      "        ...,\n",
      "        [ 0.1898,  0.5052, -1.1181,  ...,  0.1589, -0.2386, -0.0422],\n",
      "        [-0.1811, -0.3222, -1.0892,  ..., -0.6617,  0.9755, -0.4168],\n",
      "        [-0.9795,  0.1372,  0.2305,  ..., -0.5707, -0.4258,  1.1643]],\n",
      "       grad_fn=<ViewBackward0>) tensor(4.4995, grad_fn=<NllLossBackward0>)\n",
      "\n",
      "KkqBJqo3?-&aCIv;Ht:KF'sWm?bxLMbp\n",
      "gzjQS,HPVUoVX?yEEh-3C!dyE.wf3LXvDXU-D,,khH?xfyeUwtSlqxNhjnlxvLZi3EiVn3,Bieo\n",
      "3;MpN gwXIys'$ULBr;NH l3kYc.S&IfumUdBstr;\n",
      "3yQ'uRX,NH;exwuMppL:YBwwDN-BrywXF\n",
      "TuOuR'e3wVIBaOnO.BzOVdTRagznu3AT3!?jx,q;QJZTPGTwQ3QnVgjZ3AGiJxsm\n",
      "eaUtHUBW\n",
      "Gt!Ik3ZIW\n",
      "EIgkmbpomx'GY3T.lhYvomvSTcse,hOkSXxm\n",
      "hxr3KmtQ-tdKVv.x?!-;MT-Ejl''cuSx?-NxLI umdA!zb;-Eo?MFX,kmLBq&uQQQNxxEeZnR\n",
      "Efk.LeftmQt-HZQoYBWSw.tIkPAqtG&!:QItKhIp$&to !wW&iXoHjxLmLmiRyZDHnvEAm?eFStKzm3pTHmBtm-UaNwtHpn-'Tp&&,HEI'k''HEkNSk?C&ztzQaLt s3UANCtAmKhO-'EmNEDeE-x&HNEN!iDpjDeQ vS?MLvwmEzoHDeRNhvBW&iwekBxM!-D'tmxq S-x&KEAkW&&x3J .qU-EWGniTqU$MknKHLQz M.Ezx3kqAEH$azU,q:Apvl'jx3&N--uT3&sdtjninpkC&LxA!tLx-$N\n",
      "eiBt'xBM--nEhLBxEw.S?IW$QSEjBdSPfOl$ERpfYuYmET!3'mtyQx QYE-tmyE'Nequ.&k'x&tqgf3zxkt3jKLWxRct;kkezx$ke;-pLFjBdxBOuBCRy33EMGiEx3'KK.zitrt&hZn3qzzEI\n",
      "-KEDqUE?h3W;N'JmB-;-St?3m-;--R;Cy-MxNlt?fp&YxHOKttBoWkfzrS-?z' BtGkxuXllanjMXzl''E?-vUwgMQBWfax-;kBWZ&$e;P3h\n",
      "-zx&tCokOVz!On,fY-fxd!xtBKBxF';tZU.qabhtqM,S-N3kpEam?G3wQ?-yRGEaha'&3Nx,\n"
     ]
    }
   ],
   "source": [
    "class bigramlangmodel(nn.Module):\n",
    "    \n",
    "    def __init__(self):\n",
    "        super().__init__()\n",
    "        #token reads the next token's logit through look up table\n",
    "        self.token_embedding_table = nn.Embedding(vocab_size, n_embed)\n",
    "        self.position_embedding_table = nn.Embedding(block_size, n_embed)\n",
    "        self.lm_head = nn.Linear(n_embed, vocab_size)\n",
    "    \n",
    "    def forward(self, idx, targets=None):\n",
    "\n",
    "        B,T = idx.shape\n",
    "        token_embed = self.token_embedding_table(idx)#(B,T,C)\n",
    "        pos_embed = self.position_embedding_table(torch.arange(T)) #(T,C)\n",
    "        x = token_embed + pos_embed #(B,T,C)\n",
    "        logits = self.lm_head(x) #(B,T,vocab_size)\n",
    "        \n",
    "\n",
    "        if targets is None:\n",
    "            loss = None\n",
    "        else:\n",
    "            B, T, C = logits.shape\n",
    "            logits = logits.view(B*T, C)\n",
    "            targets = targets.view(B*T)\n",
    "            loss = F.cross_entropy(logits, targets)\n",
    "        return logits, loss\n",
    "    \n",
    "    def generate(self, idx, max_new_tokens): #idx--{B,T} format\n",
    "        for _ in range(max_new_tokens):\n",
    "            idx_cond = idx[:,-block_size:]\n",
    "            \n",
    "            \n",
    "            logits, loss = self(idx_cond)\n",
    "            \n",
    "            \n",
    "            logits = logits[:,-1,:] # used to focus on the last step\n",
    "            probs = F.softmax(logits,dim=-1) #softmax for probabs\n",
    "            idx_next = torch.multinomial(probs, num_samples =1)\n",
    "            #now to append the generated sample\n",
    "            idx = torch.cat((idx, idx_next), dim = 1)\n",
    "            \n",
    "        return idx\n",
    "    \n",
    "m = bigramlangmodel()\n",
    "logits, loss = m(xb, yb)\n",
    "print(logits.shape)\n",
    "print(logits, loss)\n",
    "\n",
    "context = torch.zeros((1, 1), dtype=torch.long)\n",
    "print(decode(m.generate(context, max_new_tokens=1000)[0].tolist()))"
   ]
  },
  {
   "cell_type": "code",
   "execution_count": 112,
   "id": "d0b4d62a",
   "metadata": {},
   "outputs": [],
   "source": [
    "optimizer = torch.optim.AdamW(m.parameters(), lr=1e-3)"
   ]
  },
  {
   "cell_type": "code",
   "execution_count": 113,
   "id": "f982d636",
   "metadata": {},
   "outputs": [
    {
     "name": "stdout",
     "output_type": "stream",
     "text": [
      "loss =  2.4408671855926514\n",
      "CPU times: user 6min 35s, sys: 2min 12s, total: 8min 48s\n",
      "Wall time: 3min 58s\n"
     ]
    }
   ],
   "source": [
    "%%time\n",
    "#batch_size = 32\n",
    "for steps in range(10000):\n",
    "    xb,yb = get_batch(\"train\")\n",
    "    \n",
    "    # loss evaluate\n",
    "    logits, loss = m(xb,yb)\n",
    "    optimizer.zero_grad(set_to_none=True)\n",
    "    loss.backward()\n",
    "    optimizer.step()\n",
    "    \n",
    "print(\"loss = \",loss.item())"
   ]
  },
  {
   "cell_type": "code",
   "execution_count": 114,
   "id": "8b988be6",
   "metadata": {},
   "outputs": [
    {
     "name": "stdout",
     "output_type": "stream",
     "text": [
      "\n",
      "NVoortory d d frd sheacoord;\n",
      "Then\n",
      "Naigin h! oug.\n",
      "MPritor s wsouke, my,\n",
      "Hayouck.\n",
      "BENRIIOuthen, s I y'd IVEvirowath het per me chepeale.\n",
      "S: brd ind\n",
      "NRY t, wsye;'d ny frint brof e. o h, It? OUTe I reat be,\n",
      "Bus tlishe d k e LLOrd s'llle thishin ker\n",
      "\n",
      "\n",
      "NEXE 'lite t temer bede tolliard le youlustharorer wistherthingule stoucover isend muts jenthinthaty t axce'd kem me ingg son les min laje,\n",
      "\n",
      "\n",
      "THES:\n",
      "GLA rrt h ino tetnksing a t gu geltrou y'tourvenoind sengng sthe ito;\n",
      "Ty im ade wagre d l par\n",
      "Theve; m pe\n"
     ]
    }
   ],
   "source": [
    "print(decode(m.generate(torch.zeros((1, 1), dtype=torch.long), max_new_tokens = 500)[0].tolist()))"
   ]
  },
  {
   "cell_type": "code",
   "execution_count": null,
   "id": "4c6c6b1c",
   "metadata": {},
   "outputs": [],
   "source": []
  },
  {
   "cell_type": "code",
   "execution_count": null,
   "id": "a34a60e0",
   "metadata": {},
   "outputs": [],
   "source": []
  },
  {
   "cell_type": "code",
   "execution_count": null,
   "id": "e76940dd",
   "metadata": {},
   "outputs": [],
   "source": []
  },
  {
   "cell_type": "code",
   "execution_count": null,
   "id": "091f8126",
   "metadata": {},
   "outputs": [],
   "source": []
  },
  {
   "cell_type": "code",
   "execution_count": null,
   "id": "d7e759b5",
   "metadata": {},
   "outputs": [],
   "source": []
  },
  {
   "cell_type": "code",
   "execution_count": 95,
   "id": "7bbf7758",
   "metadata": {},
   "outputs": [],
   "source": [
    "# version 4 : Self Attention Head"
   ]
  },
  {
   "cell_type": "code",
   "execution_count": 96,
   "id": "4036b8c5",
   "metadata": {},
   "outputs": [
    {
     "name": "stdout",
     "output_type": "stream",
     "text": [
      "torch.Size([4, 8, 16]) torch.Size([4, 8, 16]) torch.Size([4, 8, 16])\n"
     ]
    }
   ],
   "source": [
    "torch.manual_seed(1337)\n",
    "B,T,C = 4,8,32\n",
    "x = torch.randn(B,T,C)\n",
    "\n",
    "# one self attention head\n",
    "head_size = 16\n",
    "key = nn.Linear(C, head_size, bias=False)\n",
    "query = nn.Linear(C, head_size, bias=False)\n",
    "value = nn.Linear(C, head_size, bias=False)\n",
    "\n",
    "k = key(x)\n",
    "q = query(x)\n",
    "wei = q @ k.transpose(-2,-1) * (head_size**-0.5) # (B,T,16) @ (B,16,T)--->(B,T,T)\n",
    "\n",
    "tril = torch.tril(torch.ones(T,T))\n",
    "#wei = torch.zeros((T,T))\n",
    "wei = wei.masked_fill(tril == 0, float('-inf'))\n",
    "wei = F.softmax(wei,dim =-1)\n",
    "\n",
    "v = value(x)\n",
    "out = wei @ v #(B,T,16)\n",
    "\n",
    "#out = wei @ x\n",
    "print(out.shape,k.shape,q.shape)\n"
   ]
  },
  {
   "cell_type": "code",
   "execution_count": 97,
   "id": "01a5e24d",
   "metadata": {
    "scrolled": true
   },
   "outputs": [
    {
     "data": {
      "text/plain": [
       "tensor([[1.0000, 0.0000, 0.0000, 0.0000, 0.0000, 0.0000, 0.0000, 0.0000],\n",
       "        [0.3966, 0.6034, 0.0000, 0.0000, 0.0000, 0.0000, 0.0000, 0.0000],\n",
       "        [0.3069, 0.2892, 0.4039, 0.0000, 0.0000, 0.0000, 0.0000, 0.0000],\n",
       "        [0.3233, 0.2175, 0.2443, 0.2149, 0.0000, 0.0000, 0.0000, 0.0000],\n",
       "        [0.1479, 0.2034, 0.1663, 0.1455, 0.3369, 0.0000, 0.0000, 0.0000],\n",
       "        [0.1259, 0.2490, 0.1324, 0.1062, 0.3141, 0.0724, 0.0000, 0.0000],\n",
       "        [0.1598, 0.1990, 0.1140, 0.1125, 0.1418, 0.1669, 0.1061, 0.0000],\n",
       "        [0.0845, 0.1197, 0.1078, 0.1537, 0.1086, 0.1146, 0.1558, 0.1553]],\n",
       "       grad_fn=<SelectBackward0>)"
      ]
     },
     "execution_count": 97,
     "metadata": {},
     "output_type": "execute_result"
    }
   ],
   "source": [
    "wei[0]"
   ]
  },
  {
   "cell_type": "code",
   "execution_count": 98,
   "id": "29785fee",
   "metadata": {},
   "outputs": [
    {
     "data": {
      "text/plain": [
       "tensor(0.3164, grad_fn=<VarBackward0>)"
      ]
     },
     "execution_count": 98,
     "metadata": {},
     "output_type": "execute_result"
    }
   ],
   "source": [
    "k.var()"
   ]
  },
  {
   "cell_type": "code",
   "execution_count": 99,
   "id": "6a0be472",
   "metadata": {},
   "outputs": [
    {
     "data": {
      "text/plain": [
       "tensor(0.3386, grad_fn=<VarBackward0>)"
      ]
     },
     "execution_count": 99,
     "metadata": {},
     "output_type": "execute_result"
    }
   ],
   "source": [
    "q.var()"
   ]
  },
  {
   "cell_type": "code",
   "execution_count": 100,
   "id": "a87f20ba",
   "metadata": {},
   "outputs": [
    {
     "data": {
      "text/plain": [
       "tensor(0.0287, grad_fn=<VarBackward0>)"
      ]
     },
     "execution_count": 100,
     "metadata": {},
     "output_type": "execute_result"
    }
   ],
   "source": [
    "wei.var()"
   ]
  },
  {
   "cell_type": "code",
   "execution_count": null,
   "id": "f7d65ddb",
   "metadata": {},
   "outputs": [],
   "source": []
  }
 ],
 "metadata": {
  "kernelspec": {
   "display_name": "Python 3 (ipykernel)",
   "language": "python",
   "name": "python3"
  },
  "language_info": {
   "codemirror_mode": {
    "name": "ipython",
    "version": 3
   },
   "file_extension": ".py",
   "mimetype": "text/x-python",
   "name": "python",
   "nbconvert_exporter": "python",
   "pygments_lexer": "ipython3",
   "version": "3.9.15"
  }
 },
 "nbformat": 4,
 "nbformat_minor": 5
}
